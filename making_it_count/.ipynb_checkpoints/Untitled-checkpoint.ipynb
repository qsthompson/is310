{
 "cells": [
  {
   "cell_type": "raw",
   "id": "d30d7a8a-06b2-42a6-933f-3207a2f0f1f4",
   "metadata": {},
   "source": [
    "- split archive data into pre and post 1999 sets\n",
    "- use tf-idf to find language differences between post and pre 1999 periods\n",
    "    - archive is from 1987-2018\n",
    "- visualize these differences"
   ]
  },
  {
   "cell_type": "code",
   "execution_count": 1,
   "id": "7b492313-ad9f-40ec-9eec-f470f2cd75de",
   "metadata": {},
   "outputs": [],
   "source": [
    "import pandas as pd\n",
    "import altair as alt\n",
    "from sklearn.feature_extraction.text import TfidfVectorizer\n",
    "from sklearn.decomposition import LatentDirichletAllocation\n",
    "from sklearn.model_selection import train_test_split\n",
    "from sklearn.linear_model import LogisticRegression\n",
    "from sklearn.metrics import classification_report\n",
    "import numpy as np"
   ]
  },
  {
   "cell_type": "code",
   "execution_count": 2,
   "id": "087d5582-190f-4cd6-a64d-6ece5d8c9cc8",
   "metadata": {},
   "outputs": [],
   "source": [
    "humanist_vols = pd.read_csv(\"web_scraped_humanist_listserv_volumes.csv\")"
   ]
  },
  {
   "cell_type": "code",
   "execution_count": 4,
   "id": "5635e0ab-fe25-4b5a-bbcc-999382b17de5",
   "metadata": {},
   "outputs": [],
   "source": [
    "humanist_vols = humanist_vols"
   ]
  },
  {
   "cell_type": "code",
   "execution_count": 5,
   "id": "5d047e95-f971-4a59-bfae-972acee43acf",
   "metadata": {},
   "outputs": [],
   "source": [
    "humanist_vols['volume_number'] = humanist_vols['volume_dates'].str.extract(r'(\\d+)')"
   ]
  },
  {
   "cell_type": "code",
   "execution_count": 7,
   "id": "e05b8cbf-68ee-4b1b-b043-a0e52126a331",
   "metadata": {},
   "outputs": [],
   "source": [
    "docs2k = humanist_vols.loc[humanist_vols['inferred_start_year'] > 1999]\n",
    "docs19 = humanist_vols.loc[humanist_vols['inferred_start_year'] < 2000]"
   ]
  },
  {
   "cell_type": "code",
   "execution_count": 8,
   "id": "1536f5e8-1c2b-46c4-a8d9-22e758db99d5",
   "metadata": {},
   "outputs": [],
   "source": [
    "vectorizer = TfidfVectorizer(max_df=.7, min_df=1)\n",
    "\n",
    "dates = humanist_vols.inferred_start_year.tolist()\n",
    "both_sections = []\n",
    "for s in [docs19, docs2k]:\n",
    "    documents = s.volume_text.tolist()\n",
    "    tfidf_results = []\n",
    "    for counter, doc in enumerate(vectorizer.fit_transform(documents).toarray()\n",
    "    ):\n",
    "        tf_idf_tuples = list(zip(vectorizer.get_feature_names_out(), doc))\n",
    "        one_doc_as_df = pd.DataFrame.from_records(tf_idf_tuples, columns=['term', 'score']).sort_values(by='score', ascending=False).reset_index(drop=True)\n",
    "        one_doc_as_df['inferred_start_year'] = dates[counter]\n",
    "        tfidf_results.append(one_doc_as_df)\n",
    "    both_sections.append(pd.concat(tfidf_results))\n",
    "        "
   ]
  },
  {
   "cell_type": "code",
   "execution_count": null,
   "id": "2fba2b26-54ad-4e8e-b547-acadaa7bbea9",
   "metadata": {},
   "outputs": [
    {
     "data": {
      "text/plain": [
       "<Axes: >"
      ]
     },
     "execution_count": 9,
     "metadata": {},
     "output_type": "execute_result"
    }
   ],
   "source": [
    "both_sections[1].plot()"
   ]
  },
  {
   "cell_type": "raw",
   "id": "1b339674-80b2-4dae-b3c0-be2af8ea5557",
   "metadata": {},
   "source": [
    "ax = "
   ]
  }
 ],
 "metadata": {
  "kernelspec": {
   "display_name": "Python 3 (ipykernel)",
   "language": "python",
   "name": "python3"
  },
  "language_info": {
   "codemirror_mode": {
    "name": "ipython",
    "version": 3
   },
   "file_extension": ".py",
   "mimetype": "text/x-python",
   "name": "python",
   "nbconvert_exporter": "python",
   "pygments_lexer": "ipython3",
   "version": "3.11.2"
  }
 },
 "nbformat": 4,
 "nbformat_minor": 5
}
