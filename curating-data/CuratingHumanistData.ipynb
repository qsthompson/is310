{
 "cells": [
  {
   "cell_type": "code",
   "execution_count": 6,
   "id": "4fbf6957-805e-4d5b-9240-cefcbd1bdce7",
   "metadata": {},
   "outputs": [],
   "source": [
    "import pandas as pd\n",
    "import requests\n",
    "from bs4 import *"
   ]
  },
  {
   "cell_type": "raw",
   "id": "37f85626-c1ea-43a9-bd9d-365087029ec6",
   "metadata": {},
   "source": [
    "get the text from the humanist listserv \"https://humanist.kdl.kcl.ac.uk/Archives\"\n",
    "save 10000 chars from each volume and some other data\n",
    "put in dataframe, then csv \"web_scraped_humanist_listserv.csv\""
   ]
  },
  {
   "cell_type": "code",
   "execution_count": 22,
   "id": "92d53bef-d114-4aed-baa4-4a2530f18828",
   "metadata": {},
   "outputs": [],
   "source": [
    "items = BeautifulSoup(requests.get('https://humanist.kdl.kcl.ac.uk/Archives/Converted_Text/').text, features=\"html.parser\").find_all('a')\n",
    "data = {'date':[], 'content':[]}\n",
    "for item in items:\n",
    "    link = item.get('href')\n",
    "    if '.txt' in link:\n",
    "        date = link.split('.')[1].split('.')[0]\n",
    "        content = BeautifulSoup(requests.get('https://humanist.kdl.kcl.ac.uk/Archives/Converted_Text/' + link).text, features=\"html.parser\").get_text()[:10000]\n",
    "        data['date'].append(date)\n",
    "        data['content'].append(content)\n",
    "#i dont understand how to use pandas\n"
   ]
  },
  {
   "cell_type": "code",
   "execution_count": 24,
   "id": "4ab7520b-61de-4828-8d26-115808f88870",
   "metadata": {},
   "outputs": [],
   "source": [
    "humanist_vols = pd.DataFrame(data)"
   ]
  },
  {
   "cell_type": "code",
   "execution_count": null,
   "id": "7c0a6bde-e289-4f97-8fb4-770929785c8d",
   "metadata": {},
   "outputs": [],
   "source": [
    "humanist_vols.to_csv('web_scraped_humanist_listserv.csv', index=False)"
   ]
  }
 ],
 "metadata": {
  "kernelspec": {
   "display_name": "Python 3 (ipykernel)",
   "language": "python",
   "name": "python3"
  },
  "language_info": {
   "codemirror_mode": {
    "name": "ipython",
    "version": 3
   },
   "file_extension": ".py",
   "mimetype": "text/x-python",
   "name": "python",
   "nbconvert_exporter": "python",
   "pygments_lexer": "ipython3",
   "version": "3.11.2"
  }
 },
 "nbformat": 4,
 "nbformat_minor": 5
}
